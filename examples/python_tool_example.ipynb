{
 "cells": [
  {
   "cell_type": "markdown",
   "metadata": {},
   "source": [
    "# Fuel consumption - python toolbox"
   ]
  },
  {
   "cell_type": "markdown",
   "metadata": {},
   "source": [
    "We have developed a toolbox to let the user define the parameters of the car, the route and the boundry of his study area, to get the fuel consumption/Co2 emissions on the route."
   ]
  },
  {
   "cell_type": "markdown",
   "metadata": {},
   "source": [
    "## Load packages"
   ]
  },
  {
   "cell_type": "code",
   "execution_count": 1,
   "metadata": {
    "scrolled": false
   },
   "outputs": [],
   "source": [
    "from envirocar import TrackAPI,consumption, DownloadClient, BboxSelector, TimeSelector, ECConfig, car, road\n",
    "\n",
    "# create an initial but optional config and an api client\n",
    "config = ECConfig()\n",
    "track_api = TrackAPI(api_client=DownloadClient(config=config))"
   ]
  },
  {
   "cell_type": "markdown",
   "metadata": {},
   "source": [
    "## Query tracks"
   ]
  },
  {
   "cell_type": "code",
   "execution_count": 3,
   "metadata": {},
   "outputs": [
    {
     "name": "stdout",
     "output_type": "stream",
     "text": [
      "<envirocar.client.request_param.RequestParam object at 0x000002A955E25C08>\n"
     ]
    }
   ],
   "source": [
    "bbox = BboxSelector([\n",
    "    7.603312, # min_x\n",
    "    51.952343, # min_y\n",
    "    7.65083, # max_x \n",
    "    51.974045,  # max_y \n",
    "])\n",
    "\n",
    "\n",
    "# issue a query\n",
    "track_df1 = track_api.get_tracks(bbox=bbox,  num_results=5)"
   ]
  },
  {
   "cell_type": "markdown",
   "metadata": {},
   "source": [
    "## The user define the parameters of the car"
   ]
  },
  {
   "cell_type": "code",
   "execution_count": 6,
   "metadata": {},
   "outputs": [],
   "source": [
    "land_rover = car(mass=1200, car_cross_sectional=2.5, Air_drag_cofficient=0.4, Calorific_value= 9.8, Idle_power= 1.5)\n"
   ]
  },
  {
   "cell_type": "markdown",
   "metadata": {},
   "source": [
    "## Call the function to calculate the fuel consumption rate (l/h) and Co2 emissions"
   ]
  },
  {
   "cell_type": "markdown",
   "metadata": {},
   "source": [
    "In the following function, the user mus define the car, the boundry of osm network (it can be the same area of request tracks) and the tracks/routes in dataframe format."
   ]
  },
  {
   "cell_type": "code",
   "execution_count": 7,
   "metadata": {
    "scrolled": true
   },
   "outputs": [],
   "source": [
    "instantaneous_consumption = consumption.fuel_consumption(car = land_rover,osmbox = bbox, track_df= track_df1)"
   ]
  },
  {
   "cell_type": "code",
   "execution_count": 8,
   "metadata": {},
   "outputs": [
    {
     "data": {
      "text/html": [
       "<div>\n",
       "<style scoped>\n",
       "    .dataframe tbody tr th:only-of-type {\n",
       "        vertical-align: middle;\n",
       "    }\n",
       "\n",
       "    .dataframe tbody tr th {\n",
       "        vertical-align: top;\n",
       "    }\n",
       "\n",
       "    .dataframe thead th {\n",
       "        text-align: right;\n",
       "    }\n",
       "</style>\n",
       "<table border=\"1\" class=\"dataframe\">\n",
       "  <thead>\n",
       "    <tr style=\"text-align: right;\">\n",
       "      <th></th>\n",
       "      <th>elevation</th>\n",
       "      <th>maxspeed</th>\n",
       "      <th>Acceleration</th>\n",
       "      <th>surface</th>\n",
       "      <th>rolling_resistance</th>\n",
       "      <th>gradient</th>\n",
       "      <th>efficiency</th>\n",
       "      <th>Consumption_Gasoline</th>\n",
       "      <th>CO2_Gasoline</th>\n",
       "    </tr>\n",
       "  </thead>\n",
       "  <tbody>\n",
       "    <tr>\n",
       "      <th>0</th>\n",
       "      <td>62.448772</td>\n",
       "      <td>30</td>\n",
       "      <td>0.000000</td>\n",
       "      <td>asphalt</td>\n",
       "      <td>0.02</td>\n",
       "      <td>NaN</td>\n",
       "      <td>NaN</td>\n",
       "      <td>NaN</td>\n",
       "      <td>NaN</td>\n",
       "    </tr>\n",
       "    <tr>\n",
       "      <th>1</th>\n",
       "      <td>62.448772</td>\n",
       "      <td>30</td>\n",
       "      <td>0.000000</td>\n",
       "      <td>asphalt</td>\n",
       "      <td>0.02</td>\n",
       "      <td>-0.005362</td>\n",
       "      <td>0.262924</td>\n",
       "      <td>0.582150</td>\n",
       "      <td>5.705069</td>\n",
       "    </tr>\n",
       "    <tr>\n",
       "      <th>2</th>\n",
       "      <td>62.446918</td>\n",
       "      <td>30</td>\n",
       "      <td>0.000000</td>\n",
       "      <td>asphalt</td>\n",
       "      <td>0.02</td>\n",
       "      <td>0.005339</td>\n",
       "      <td>0.272372</td>\n",
       "      <td>0.561957</td>\n",
       "      <td>5.507175</td>\n",
       "    </tr>\n",
       "    <tr>\n",
       "      <th>3</th>\n",
       "      <td>62.447842</td>\n",
       "      <td>30</td>\n",
       "      <td>0.142343</td>\n",
       "      <td>asphalt</td>\n",
       "      <td>0.02</td>\n",
       "      <td>0.004236</td>\n",
       "      <td>0.284209</td>\n",
       "      <td>0.538552</td>\n",
       "      <td>5.277814</td>\n",
       "    </tr>\n",
       "    <tr>\n",
       "      <th>4</th>\n",
       "      <td>62.460827</td>\n",
       "      <td>30</td>\n",
       "      <td>0.144903</td>\n",
       "      <td>asphalt</td>\n",
       "      <td>0.02</td>\n",
       "      <td>0.008182</td>\n",
       "      <td>0.287945</td>\n",
       "      <td>0.127604</td>\n",
       "      <td>1.250519</td>\n",
       "    </tr>\n",
       "    <tr>\n",
       "      <th>...</th>\n",
       "      <td>...</td>\n",
       "      <td>...</td>\n",
       "      <td>...</td>\n",
       "      <td>...</td>\n",
       "      <td>...</td>\n",
       "      <td>...</td>\n",
       "      <td>...</td>\n",
       "      <td>...</td>\n",
       "      <td>...</td>\n",
       "    </tr>\n",
       "    <tr>\n",
       "      <th>1149</th>\n",
       "      <td>10.025014</td>\n",
       "      <td>30</td>\n",
       "      <td>0.000000</td>\n",
       "      <td>asphalt</td>\n",
       "      <td>0.02</td>\n",
       "      <td>-0.006992</td>\n",
       "      <td>0.261484</td>\n",
       "      <td>0.585355</td>\n",
       "      <td>5.736481</td>\n",
       "    </tr>\n",
       "    <tr>\n",
       "      <th>1150</th>\n",
       "      <td>10.023778</td>\n",
       "      <td>30</td>\n",
       "      <td>0.000000</td>\n",
       "      <td>asphalt</td>\n",
       "      <td>0.02</td>\n",
       "      <td>0.002354</td>\n",
       "      <td>0.269736</td>\n",
       "      <td>0.567448</td>\n",
       "      <td>5.560995</td>\n",
       "    </tr>\n",
       "    <tr>\n",
       "      <th>1151</th>\n",
       "      <td>10.025290</td>\n",
       "      <td>30</td>\n",
       "      <td>0.000000</td>\n",
       "      <td>asphalt</td>\n",
       "      <td>0.02</td>\n",
       "      <td>NaN</td>\n",
       "      <td>NaN</td>\n",
       "      <td>NaN</td>\n",
       "      <td>NaN</td>\n",
       "    </tr>\n",
       "    <tr>\n",
       "      <th>1152</th>\n",
       "      <td>10.025290</td>\n",
       "      <td>30</td>\n",
       "      <td>0.000000</td>\n",
       "      <td>asphalt</td>\n",
       "      <td>0.02</td>\n",
       "      <td>0.006982</td>\n",
       "      <td>0.273822</td>\n",
       "      <td>0.558980</td>\n",
       "      <td>5.478005</td>\n",
       "    </tr>\n",
       "    <tr>\n",
       "      <th>1153</th>\n",
       "      <td>10.026419</td>\n",
       "      <td>30</td>\n",
       "      <td>NaN</td>\n",
       "      <td>asphalt</td>\n",
       "      <td>0.02</td>\n",
       "      <td>NaN</td>\n",
       "      <td>NaN</td>\n",
       "      <td>NaN</td>\n",
       "      <td>NaN</td>\n",
       "    </tr>\n",
       "  </tbody>\n",
       "</table>\n",
       "<p>4672 rows × 9 columns</p>\n",
       "</div>"
      ],
      "text/plain": [
       "      elevation maxspeed  Acceleration  surface  rolling_resistance  gradient  \\\n",
       "0     62.448772       30      0.000000  asphalt                0.02       NaN   \n",
       "1     62.448772       30      0.000000  asphalt                0.02 -0.005362   \n",
       "2     62.446918       30      0.000000  asphalt                0.02  0.005339   \n",
       "3     62.447842       30      0.142343  asphalt                0.02  0.004236   \n",
       "4     62.460827       30      0.144903  asphalt                0.02  0.008182   \n",
       "...         ...      ...           ...      ...                 ...       ...   \n",
       "1149  10.025014       30      0.000000  asphalt                0.02 -0.006992   \n",
       "1150  10.023778       30      0.000000  asphalt                0.02  0.002354   \n",
       "1151  10.025290       30      0.000000  asphalt                0.02       NaN   \n",
       "1152  10.025290       30      0.000000  asphalt                0.02  0.006982   \n",
       "1153  10.026419       30           NaN  asphalt                0.02       NaN   \n",
       "\n",
       "      efficiency  Consumption_Gasoline  CO2_Gasoline  \n",
       "0            NaN                   NaN           NaN  \n",
       "1       0.262924              0.582150      5.705069  \n",
       "2       0.272372              0.561957      5.507175  \n",
       "3       0.284209              0.538552      5.277814  \n",
       "4       0.287945              0.127604      1.250519  \n",
       "...          ...                   ...           ...  \n",
       "1149    0.261484              0.585355      5.736481  \n",
       "1150    0.269736              0.567448      5.560995  \n",
       "1151         NaN                   NaN           NaN  \n",
       "1152    0.273822              0.558980      5.478005  \n",
       "1153         NaN                   NaN           NaN  \n",
       "\n",
       "[4672 rows x 9 columns]"
      ]
     },
     "execution_count": 8,
     "metadata": {},
     "output_type": "execute_result"
    }
   ],
   "source": [
    "land_rover = car(mass=1200, car_cross_sectional=2.5, Air_drag_cofficient=0.4, Calorific_value= 9.8, Idle_power= 1.5)\n",
    "instantaneous_consumption = consumption.fuel_consumption(car = land_rover,osmbox = bbox, track_df= track_df1)\n",
    "instantaneous_consumption"
   ]
  },
  {
   "cell_type": "code",
   "execution_count": null,
   "metadata": {},
   "outputs": [],
   "source": []
  }
 ],
 "metadata": {
  "kernelspec": {
   "display_name": "Python 3",
   "language": "python",
   "name": "python3"
  },
  "language_info": {
   "codemirror_mode": {
    "name": "ipython",
    "version": 3
   },
   "file_extension": ".py",
   "mimetype": "text/x-python",
   "name": "python",
   "nbconvert_exporter": "python",
   "pygments_lexer": "ipython3",
   "version": "3.7.4"
  }
 },
 "nbformat": 4,
 "nbformat_minor": 2
}
